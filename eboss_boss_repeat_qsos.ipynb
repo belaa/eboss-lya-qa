{
 "cells": [
  {
   "cell_type": "markdown",
   "metadata": {},
   "source": [
    "# Repeat quasars"
   ]
  },
  {
   "cell_type": "code",
   "execution_count": 88,
   "metadata": {
    "collapsed": false
   },
   "outputs": [
    {
     "name": "stdout",
     "output_type": "stream",
     "text": [
      "Populating the interactive namespace from numpy and matplotlib\n"
     ]
    }
   ],
   "source": [
    "%pylab inline"
   ]
  },
  {
   "cell_type": "code",
   "execution_count": 151,
   "metadata": {
    "collapsed": true
   },
   "outputs": [],
   "source": [
    "from astropy.table import join, hstack, Column, unique\n",
    "from astropy.io import ascii"
   ]
  },
  {
   "cell_type": "markdown",
   "metadata": {},
   "source": [
    " ### Query the data via `bossquery` from the bossdata package:\n",
    " #### http://bossdata.readthedocs.org/en/latest/scripts.html#bossquery"
   ]
  },
  {
   "cell_type": "markdown",
   "metadata": {},
   "source": [
    "#### BOSS \n",
    "\n",
    "Pipeline version number: export BOSS_REDUX_VERSION=v5_7_0\n",
    "\n",
    "`bossquery --full --what 'PLATE,MJD,FIBER,THING_ID,RUN,RERUN,CAMCOL,FIELD,ID' --where 'CLASS=\"QSO\" and ZWARNING=0 and Z_ERR>0 and RUN>0' --max-rows 100000 --save boss_qsos.dat`"
   ]
  },
  {
   "cell_type": "markdown",
   "metadata": {},
   "source": [
    "#### DR13 (BOSS+SEQUELS)\n",
    "\n",
    "Pipeline version number: export BOSS_REDUX_VERSION=v5_9_0\n",
    "\n",
    "`bossquery --full --what 'PLATE,MJD,FIBER,THING_ID,RUN,RERUN,CAMCOL,FIELD,ID' --where 'CLASS=\"QSO\" and ZWARNING=0 and Z_ERR>0 and EBOSS_TARGET1&4096>0' --max-rows 100000 --save dr13_qsos.dat` \n",
    "\n",
    "##### Note: This query return no rows"
   ]
  },
  {
   "cell_type": "markdown",
   "metadata": {},
   "source": [
    "#### eBOSS \n",
    "\n",
    "Pipeline version number: export BOSS_REDUX_VERSION=v5_9_1\n",
    "\n",
    "`bossquery --full --what 'PLATE,MJD,FIBER,THING_ID,RUN,RERUN,CAMCOL,FIELD,ID' --where 'CLASS=\"QSO\" and ZWARNING=0 and Z_ERR>0 and EBOSS_TARGET1&4096>0' --max-rows 100000 --save eboss_qsos.dat`"
   ]
  },
  {
   "cell_type": "code",
   "execution_count": 147,
   "metadata": {
    "collapsed": false
   },
   "outputs": [],
   "source": [
    "boss = ascii.read('boss_qsos.dat')\n",
    "eboss = ascii.read('eboss_qsos.dat', format='csv', delimiter=' ')"
   ]
  },
  {
   "cell_type": "code",
   "execution_count": 148,
   "metadata": {
    "collapsed": false
   },
   "outputs": [
    {
     "name": "stdout",
     "output_type": "stream",
     "text": [
      "eBOSS returned 9952 quasars\n",
      "BOSS returned 100000 quasars\n"
     ]
    }
   ],
   "source": [
    "print 'eBOSS returned %d quasars' %len(eboss)\n",
    "print 'BOSS returned %d quasars' %len(boss)"
   ]
  },
  {
   "cell_type": "code",
   "execution_count": 113,
   "metadata": {
    "collapsed": true
   },
   "outputs": [],
   "source": [
    "#eboss has missing ID values\n",
    "eboss['ID'].fill_value = -999"
   ]
  },
  {
   "cell_type": "markdown",
   "metadata": {},
   "source": [
    "### Match quasars"
   ]
  },
  {
   "cell_type": "code",
   "execution_count": 149,
   "metadata": {
    "collapsed": false
   },
   "outputs": [],
   "source": [
    "overlap = join(eboss.filled(), boss, keys=('RUN','RERUN','CAMCOL','FIELD', 'ID'), join_type='inner', table_names=('E','B'))\n",
    "overlap = overlap.group_by(('PLATE_E','MJD_E','FIBER_E'))\n",
    "repeats = Table([overlap['PLATE_E'],overlap['MJD_E'],overlap['FIBER_E'],overlap['THING_ID_E'],overlap['PLATE_B'],overlap['MJD_B'],overlap['FIBER_B'],overlap['THING_ID_B']])"
   ]
  },
  {
   "cell_type": "code",
   "execution_count": 152,
   "metadata": {
    "collapsed": false
   },
   "outputs": [
    {
     "data": {
      "text/html": [
       "&lt;Table masked=False length=5487&gt;\n",
       "<table id=\"table4433954192\">\n",
       "<thead><tr><th>PLATE_E</th><th>MJD_E</th><th>FIBER_E</th><th>THING_ID_E</th><th>PLATE_B</th><th>MJD_B</th><th>FIBER_B</th><th>THING_ID_B</th></tr></thead>\n",
       "<thead><tr><th>int64</th><th>int64</th><th>int64</th><th>int64</th><th>int64</th><th>int64</th><th>int64</th><th>int64</th></tr></thead>\n",
       "<tr><td>7818</td><td>56989</td><td>5</td><td>85118903</td><td>4229</td><td>55501</td><td>106</td><td>85234552</td></tr>\n",
       "<tr><td>7818</td><td>56989</td><td>12</td><td>77873749</td><td>4230</td><td>55483</td><td>421</td><td>77960659</td></tr>\n",
       "<tr><td>7818</td><td>56989</td><td>64</td><td>87887349</td><td>4229</td><td>55501</td><td>192</td><td>88013318</td></tr>\n",
       "<tr><td>7818</td><td>56989</td><td>94</td><td>77865427</td><td>4229</td><td>55501</td><td>300</td><td>77952306</td></tr>\n",
       "<tr><td>7818</td><td>56989</td><td>127</td><td>68298856</td><td>4229</td><td>55501</td><td>242</td><td>68334028</td></tr>\n",
       "<tr><td>7818</td><td>56989</td><td>132</td><td>73003909</td><td>4229</td><td>55501</td><td>206</td><td>73067713</td></tr>\n",
       "<tr><td>7818</td><td>56989</td><td>172</td><td>77863794</td><td>4229</td><td>55501</td><td>334</td><td>77950663</td></tr>\n",
       "<tr><td>7818</td><td>56989</td><td>182</td><td>73005930</td><td>4229</td><td>55501</td><td>284</td><td>73069746</td></tr>\n",
       "<tr><td>7818</td><td>56989</td><td>216</td><td>87883641</td><td>4229</td><td>55501</td><td>310</td><td>88009610</td></tr>\n",
       "<tr><td>7818</td><td>56989</td><td>218</td><td>92204806</td><td>4229</td><td>55501</td><td>316</td><td>92354606</td></tr>\n",
       "<tr><td>...</td><td>...</td><td>...</td><td>...</td><td>...</td><td>...</td><td>...</td><td>...</td></tr>\n",
       "<tr><td>8753</td><td>57373</td><td>707</td><td>155554015</td><td>4307</td><td>55531</td><td>742</td><td>155755951</td></tr>\n",
       "<tr><td>8753</td><td>57373</td><td>731</td><td>149906578</td><td>4307</td><td>55531</td><td>811</td><td>150105838</td></tr>\n",
       "<tr><td>8753</td><td>57373</td><td>746</td><td>157425491</td><td>4421</td><td>55858</td><td>342</td><td>157628378</td></tr>\n",
       "<tr><td>8753</td><td>57373</td><td>752</td><td>153628046</td><td>4307</td><td>55531</td><td>837</td><td>153829012</td></tr>\n",
       "<tr><td>8753</td><td>57373</td><td>767</td><td>149890216</td><td>4307</td><td>55531</td><td>846</td><td>150089470</td></tr>\n",
       "<tr><td>8753</td><td>57373</td><td>846</td><td>151690554</td><td>4307</td><td>55531</td><td>889</td><td>151890658</td></tr>\n",
       "<tr><td>8753</td><td>57373</td><td>859</td><td>147997327</td><td>4307</td><td>55531</td><td>930</td><td>148195655</td></tr>\n",
       "<tr><td>8753</td><td>57373</td><td>867</td><td>155463984</td><td>4307</td><td>55531</td><td>945</td><td>155665883</td></tr>\n",
       "<tr><td>8753</td><td>57373</td><td>894</td><td>149837979</td><td>4307</td><td>55531</td><td>928</td><td>150037215</td></tr>\n",
       "<tr><td>8753</td><td>57373</td><td>970</td><td>149755557</td><td>4307</td><td>55531</td><td>995</td><td>149954755</td></tr>\n",
       "</table>"
      ],
      "text/plain": [
       "<Table masked=False length=5487>\n",
       "PLATE_E MJD_E FIBER_E THING_ID_E PLATE_B MJD_B FIBER_B THING_ID_B\n",
       " int64  int64  int64    int64     int64  int64  int64    int64   \n",
       "------- ----- ------- ---------- ------- ----- ------- ----------\n",
       "   7818 56989       5   85118903    4229 55501     106   85234552\n",
       "   7818 56989      12   77873749    4230 55483     421   77960659\n",
       "   7818 56989      64   87887349    4229 55501     192   88013318\n",
       "   7818 56989      94   77865427    4229 55501     300   77952306\n",
       "   7818 56989     127   68298856    4229 55501     242   68334028\n",
       "   7818 56989     132   73003909    4229 55501     206   73067713\n",
       "   7818 56989     172   77863794    4229 55501     334   77950663\n",
       "   7818 56989     182   73005930    4229 55501     284   73069746\n",
       "   7818 56989     216   87883641    4229 55501     310   88009610\n",
       "   7818 56989     218   92204806    4229 55501     316   92354606\n",
       "    ...   ...     ...        ...     ...   ...     ...        ...\n",
       "   8753 57373     707  155554015    4307 55531     742  155755951\n",
       "   8753 57373     731  149906578    4307 55531     811  150105838\n",
       "   8753 57373     746  157425491    4421 55858     342  157628378\n",
       "   8753 57373     752  153628046    4307 55531     837  153829012\n",
       "   8753 57373     767  149890216    4307 55531     846  150089470\n",
       "   8753 57373     846  151690554    4307 55531     889  151890658\n",
       "   8753 57373     859  147997327    4307 55531     930  148195655\n",
       "   8753 57373     867  155463984    4307 55531     945  155665883\n",
       "   8753 57373     894  149837979    4307 55531     928  150037215\n",
       "   8753 57373     970  149755557    4307 55531     995  149954755"
      ]
     },
     "execution_count": 152,
     "metadata": {},
     "output_type": "execute_result"
    }
   ],
   "source": [
    "repeats"
   ]
  },
  {
   "cell_type": "code",
   "execution_count": 50,
   "metadata": {
    "collapsed": true
   },
   "outputs": [],
   "source": [
    "#repeats.write('eboss_boss_repeat_qsos.dat', format='ascii')"
   ]
  },
  {
   "cell_type": "code",
   "execution_count": 153,
   "metadata": {
    "collapsed": true
   },
   "outputs": [],
   "source": [
    "eboss_overlap = Table([repeats['PLATE_E'],repeats['MJD_E'],repeats['FIBER_E'],repeats['THING_ID_E']])\n",
    "unique_eboss = unique(eboss_overlap)"
   ]
  },
  {
   "cell_type": "code",
   "execution_count": 154,
   "metadata": {
    "collapsed": false
   },
   "outputs": [
    {
     "data": {
      "image/png": "[encoded data removed]",
      "text/plain": [
       "<matplotlib.figure.Figure at 0x10c6a0c50>"
      ]
     },
     "metadata": {},
     "output_type": "display_data"
    }
   ],
   "source": [
    "plt.figure()\n",
    "plt.hist(eboss['MJD'], bins=np.linspace(56800, 57250, 60))\n",
    "plt.hist(unique_eboss['MJD_E'], bins=np.linspace(56800, 57250, 60));"
   ]
  },
  {
   "cell_type": "code",
   "execution_count": 156,
   "metadata": {
    "collapsed": false
   },
   "outputs": [
    {
     "data": {
      "text/plain": [
       "0.4215233118971061"
      ]
     },
     "execution_count": 156,
     "metadata": {},
     "output_type": "execute_result"
    }
   ],
   "source": [
    "#Around 42% of eBOSS quasars are reobserved BOSS quasars (when overlap is performed over first 100,000 BOSS quasars)\n",
    "float(len(unique_eboss))/len(eboss)"
   ]
  },
  {
   "cell_type": "code",
   "execution_count": null,
   "metadata": {
    "collapsed": true
   },
   "outputs": [],
   "source": []
  }
 ],
 "metadata": {
  "kernelspec": {
   "display_name": "Python 2",
   "language": "python",
   "name": "python2"
  },
  "language_info": {
   "codemirror_mode": {
    "name": "ipython",
    "version": 2
   },
   "file_extension": ".py",
   "mimetype": "text/x-python",
   "name": "python",
   "nbconvert_exporter": "python",
   "pygments_lexer": "ipython2",
   "version": "2.7.11"
  }
 },
 "nbformat": 4,
 "nbformat_minor": 0
}
