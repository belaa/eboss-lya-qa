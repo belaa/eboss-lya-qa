{
 "cells": [
  {
   "cell_type": "markdown",
   "metadata": {},
   "source": [
    "# Repeat quasars"
   ]
  },
  {
   "cell_type": "code",
   "execution_count": 1,
   "metadata": {
    "collapsed": false
   },
   "outputs": [
    {
     "name": "stdout",
     "output_type": "stream",
     "text": [
      "Populating the interactive namespace from numpy and matplotlib\n"
     ]
    }
   ],
   "source": [
    "%pylab inline"
   ]
  },
  {
   "cell_type": "code",
   "execution_count": 2,
   "metadata": {
    "collapsed": true
   },
   "outputs": [],
   "source": [
    "from astropy.table import Table, join, hstack, Column"
   ]
  },
  {
   "cell_type": "markdown",
   "metadata": {},
   "source": [
    " ### Query the data via `bossquery` from the bossdata package:\n",
    " #### http://bossdata.readthedocs.org/en/latest/scripts.html#bossquery"
   ]
  },
  {
   "cell_type": "markdown",
   "metadata": {},
   "source": [
    "`bossquery --full --what 'PLATE,MJD,FIBER,THING_ID,RUN,RERUN,CAMCOL,FIELD,ID' --where 'CLASS=\"QSO\" and ZWARNING=0 and Z_ERR>0 and RUN>0' --max-rows 100000 --save boss_qsos.dat`"
   ]
  },
  {
   "cell_type": "markdown",
   "metadata": {},
   "source": [
    "`bossquery --full --what 'PLATE,MJD,FIBER,THING_ID,RUN,RERUN,CAMCOL,FIELD,ID' --where 'CLASS=\"QSO\" and ZWARNING=0 and Z_ERR>0 and EBOSS_TARGET1&4096>0' --max-rows 100000 --save eboss_qsos.dat`"
   ]
  },
  {
   "cell_type": "code",
   "execution_count": 3,
   "metadata": {
    "collapsed": false
   },
   "outputs": [],
   "source": [
    "eboss = Table.read('eboss_qsos.dat', format='ascii')\n",
    "boss = Table.read('boss_qsos.dat', format='ascii')"
   ]
  },
  {
   "cell_type": "code",
   "execution_count": 4,
   "metadata": {
    "collapsed": false
   },
   "outputs": [
    {
     "name": "stdout",
     "output_type": "stream",
     "text": [
      "eBOSS returned 5862 quasars\n",
      "BOSS returned 100000 quasars\n"
     ]
    }
   ],
   "source": [
    "print 'eBOSS returned %d quasars' %len(eboss)\n",
    "print 'BOSS returned %d quasars' %len(boss)"
   ]
  },
  {
   "cell_type": "markdown",
   "metadata": {},
   "source": [
    "### Match quasars"
   ]
  },
  {
   "cell_type": "code",
   "execution_count": 4,
   "metadata": {
    "collapsed": false
   },
   "outputs": [],
   "source": [
    "overlap = join(eboss, boss, keys=('RUN','RERUN','CAMCOL','FIELD','ID'), join_type='inner', table_names=('E','B'))\n",
    "overlap = overlap.group_by(('PLATE_E','MJD_E','FIBER_E'))\n",
    "repeats = Table([overlap['PLATE_E'],overlap['MJD_E'],overlap['FIBER_E'],overlap['THING_ID_E'],overlap['PLATE_B'],overlap['MJD_B'],overlap['FIBER_B'],overlap['THING_ID_B']])"
   ]
  },
  {
   "cell_type": "code",
   "execution_count": 5,
   "metadata": {
    "collapsed": false
   },
   "outputs": [
    {
     "data": {
      "text/html": [
       "&lt;Table masked=False length=3566&gt;\n",
       "<table id=\"table4359951760\">\n",
       "<thead><tr><th>PLATE_E</th><th>MJD_E</th><th>FIBER_E</th><th>THING_ID_E</th><th>PLATE_B</th><th>MJD_B</th><th>FIBER_B</th><th>THING_ID_B</th></tr></thead>\n",
       "<thead><tr><th>int64</th><th>int64</th><th>int64</th><th>int64</th><th>int64</th><th>int64</th><th>int64</th><th>int64</th></tr></thead>\n",
       "<tr><td>7818</td><td>56989</td><td>5</td><td>85118903</td><td>4229</td><td>55501</td><td>106</td><td>85234552</td></tr>\n",
       "<tr><td>7818</td><td>56989</td><td>12</td><td>77873749</td><td>4230</td><td>55483</td><td>421</td><td>77960659</td></tr>\n",
       "<tr><td>7818</td><td>56989</td><td>64</td><td>87887349</td><td>4229</td><td>55501</td><td>192</td><td>88013318</td></tr>\n",
       "<tr><td>7818</td><td>56989</td><td>94</td><td>77865427</td><td>4229</td><td>55501</td><td>300</td><td>77952306</td></tr>\n",
       "<tr><td>7818</td><td>56989</td><td>127</td><td>68298856</td><td>4229</td><td>55501</td><td>242</td><td>68334028</td></tr>\n",
       "<tr><td>7818</td><td>56989</td><td>132</td><td>73003909</td><td>4229</td><td>55501</td><td>206</td><td>73067713</td></tr>\n",
       "<tr><td>7818</td><td>56989</td><td>172</td><td>77863794</td><td>4229</td><td>55501</td><td>334</td><td>77950663</td></tr>\n",
       "<tr><td>7818</td><td>56989</td><td>182</td><td>73005930</td><td>4229</td><td>55501</td><td>284</td><td>73069746</td></tr>\n",
       "<tr><td>7818</td><td>56989</td><td>216</td><td>87883641</td><td>4229</td><td>55501</td><td>310</td><td>88009610</td></tr>\n",
       "<tr><td>7818</td><td>56989</td><td>218</td><td>92204806</td><td>4229</td><td>55501</td><td>316</td><td>92354606</td></tr>\n",
       "<tr><td>...</td><td>...</td><td>...</td><td>...</td><td>...</td><td>...</td><td>...</td><td>...</td></tr>\n",
       "<tr><td>8286</td><td>57062</td><td>882</td><td>457346225</td><td>4694</td><td>55649</td><td>260</td><td>457638634</td></tr>\n",
       "<tr><td>8286</td><td>57062</td><td>884</td><td>458322099</td><td>4694</td><td>55649</td><td>248</td><td>458614732</td></tr>\n",
       "<tr><td>8286</td><td>57062</td><td>901</td><td>461997457</td><td>4694</td><td>55649</td><td>838</td><td>462291264</td></tr>\n",
       "<tr><td>8286</td><td>57062</td><td>916</td><td>461997459</td><td>4694</td><td>55649</td><td>840</td><td>462291266</td></tr>\n",
       "<tr><td>8286</td><td>57062</td><td>920</td><td>461595846</td><td>4694</td><td>55649</td><td>194</td><td>461889517</td></tr>\n",
       "<tr><td>8286</td><td>57062</td><td>932</td><td>458695052</td><td>4694</td><td>55649</td><td>234</td><td>458987796</td></tr>\n",
       "<tr><td>8286</td><td>57062</td><td>952</td><td>460996731</td><td>4694</td><td>55649</td><td>160</td><td>461290179</td></tr>\n",
       "<tr><td>8286</td><td>57062</td><td>956</td><td>459820888</td><td>4694</td><td>55649</td><td>152</td><td>460114057</td></tr>\n",
       "<tr><td>8286</td><td>57062</td><td>965</td><td>459216067</td><td>4694</td><td>55649</td><td>68</td><td>459509022</td></tr>\n",
       "<tr><td>8286</td><td>57062</td><td>977</td><td>457675497</td><td>4694</td><td>55649</td><td>90</td><td>457968003</td></tr>\n",
       "</table>"
      ],
      "text/plain": [
       "<Table masked=False length=3566>\n",
       "PLATE_E MJD_E FIBER_E THING_ID_E PLATE_B MJD_B FIBER_B THING_ID_B\n",
       " int64  int64  int64    int64     int64  int64  int64    int64   \n",
       "------- ----- ------- ---------- ------- ----- ------- ----------\n",
       "   7818 56989       5   85118903    4229 55501     106   85234552\n",
       "   7818 56989      12   77873749    4230 55483     421   77960659\n",
       "   7818 56989      64   87887349    4229 55501     192   88013318\n",
       "   7818 56989      94   77865427    4229 55501     300   77952306\n",
       "   7818 56989     127   68298856    4229 55501     242   68334028\n",
       "   7818 56989     132   73003909    4229 55501     206   73067713\n",
       "   7818 56989     172   77863794    4229 55501     334   77950663\n",
       "   7818 56989     182   73005930    4229 55501     284   73069746\n",
       "   7818 56989     216   87883641    4229 55501     310   88009610\n",
       "   7818 56989     218   92204806    4229 55501     316   92354606\n",
       "    ...   ...     ...        ...     ...   ...     ...        ...\n",
       "   8286 57062     882  457346225    4694 55649     260  457638634\n",
       "   8286 57062     884  458322099    4694 55649     248  458614732\n",
       "   8286 57062     901  461997457    4694 55649     838  462291264\n",
       "   8286 57062     916  461997459    4694 55649     840  462291266\n",
       "   8286 57062     920  461595846    4694 55649     194  461889517\n",
       "   8286 57062     932  458695052    4694 55649     234  458987796\n",
       "   8286 57062     952  460996731    4694 55649     160  461290179\n",
       "   8286 57062     956  459820888    4694 55649     152  460114057\n",
       "   8286 57062     965  459216067    4694 55649      68  459509022\n",
       "   8286 57062     977  457675497    4694 55649      90  457968003"
      ]
     },
     "execution_count": 5,
     "metadata": {},
     "output_type": "execute_result"
    }
   ],
   "source": [
    "repeats"
   ]
  },
  {
   "cell_type": "code",
   "execution_count": 50,
   "metadata": {
    "collapsed": true
   },
   "outputs": [],
   "source": [
    "#repeats.write('eboss_boss_repeat_qsos.dat', format='ascii')"
   ]
  },
  {
   "cell_type": "code",
   "execution_count": 26,
   "metadata": {
    "collapsed": false
   },
   "outputs": [
    {
     "data": {
      "image/png": "[encoded data removed]",
      "text/plain": [
       "<matplotlib.figure.Figure at 0x1091d1250>"
      ]
     },
     "metadata": {},
     "output_type": "display_data"
    }
   ],
   "source": [
    "plt.figure()\n",
    "plt.hist(eboss['MJD'], bins=np.linspace(56800, 57250, 60))\n",
    "plt.hist(overlap['MJD_E'], bins=np.linspace(56800, 57250, 60));"
   ]
  },
  {
   "cell_type": "code",
   "execution_count": 17,
   "metadata": {
    "collapsed": false
   },
   "outputs": [
    {
     "data": {
      "text/plain": [
       "0.6083248038212214"
      ]
     },
     "execution_count": 17,
     "metadata": {},
     "output_type": "execute_result"
    }
   ],
   "source": [
    "#Around 60% of eboss quasars are reobserved boss quasars (when overlap is performed over first 100,000 boss quasars)\n",
    "float(len(overlap))/len(eboss)"
   ]
  },
  {
   "cell_type": "code",
   "execution_count": 13,
   "metadata": {
    "collapsed": false
   },
   "outputs": [],
   "source": [
    "for i in range(len(repeats)):\n",
    "    if repeats[i]['THING_ID_E'] > repeats[i]['THING_ID_B']:\n",
    "        print i"
   ]
  },
  {
   "cell_type": "code",
   "execution_count": null,
   "metadata": {
    "collapsed": true
   },
   "outputs": [],
   "source": []
  }
 ],
 "metadata": {
  "kernelspec": {
   "display_name": "Python 2",
   "language": "python",
   "name": "python2"
  },
  "language_info": {
   "codemirror_mode": {
    "name": "ipython",
    "version": 2
   },
   "file_extension": ".py",
   "mimetype": "text/x-python",
   "name": "python",
   "nbconvert_exporter": "python",
   "pygments_lexer": "ipython2",
   "version": "2.7.11"
  }
 },
 "nbformat": 4,
 "nbformat_minor": 0
}
