{
 "cells": [
  {
   "cell_type": "markdown",
   "metadata": {},
   "source": [
    "# Repeat quasars"
   ]
  },
  {
   "cell_type": "code",
   "execution_count": 1,
   "metadata": {
    "collapsed": false
   },
   "outputs": [
    {
     "name": "stdout",
     "output_type": "stream",
     "text": [
      "Populating the interactive namespace from numpy and matplotlib\n"
     ]
    }
   ],
   "source": [
    "%pylab inline"
   ]
  },
  {
   "cell_type": "code",
   "execution_count": 2,
   "metadata": {
    "collapsed": true
   },
   "outputs": [],
   "source": [
    "from astropy.table import Table, join, hstack, Column, unique\n",
    "from astropy.io import ascii"
   ]
  },
  {
   "cell_type": "markdown",
   "metadata": {},
   "source": [
    " ### Query the data via `bossquery` from the bossdata package:\n",
    " #### http://bossdata.readthedocs.org/en/latest/scripts.html#bossquery"
   ]
  },
  {
   "cell_type": "markdown",
   "metadata": {},
   "source": [
    "#### BOSS \n",
    "\n",
    "Pipeline version number: export BOSS_REDUX_VERSION=v5_7_0\n",
    "\n",
    "`bossquery --full --what 'PLATE,MJD,FIBER,THING_ID,RUN,RERUN,CAMCOL,FIELD,ID' --where 'CLASS=\"QSO\" and ZWARNING=0 and Z_ERR>0 and RUN>0' --max-rows 400000 --save boss_qsos.dat`"
   ]
  },
  {
   "cell_type": "markdown",
   "metadata": {},
   "source": [
    "#### DR13 (BOSS+SEQUELS)\n",
    "\n",
    "Pipeline version number: export BOSS_REDUX_VERSION=v5_9_0\n",
    "\n",
    "`bossquery --full --what 'PLATE,MJD,FIBER,THING_ID,RUN,RERUN,CAMCOL,FIELD,ID' --where 'CLASS=\"QSO\" and ZWARNING=0 and Z_ERR>0 and EBOSS_TARGET1&4096>0' --max-rows 100000 --save dr13_qsos.dat` \n",
    "\n",
    "##### Note: This query return no rows"
   ]
  },
  {
   "cell_type": "markdown",
   "metadata": {},
   "source": [
    "#### eBOSS \n",
    "\n",
    "Pipeline version number: export BOSS_REDUX_VERSION=v5_9_1\n",
    "\n",
    "`bossquery --full --what 'PLATE,MJD,FIBER,THING_ID,RUN,RERUN,CAMCOL,FIELD,ID' --where 'CLASS=\"QSO\" and ZWARNING=0 and Z_ERR>0 and RUN>0 EBOSS_TARGET1&4096>0' --max-rows 100000 --save eboss_qsos.dat`"
   ]
  },
  {
   "cell_type": "code",
   "execution_count": 14,
   "metadata": {
    "collapsed": false
   },
   "outputs": [],
   "source": [
    "boss = ascii.read('boss_qsos.dat')\n",
    "eboss = ascii.read('eboss_qsos.dat', format='csv', delimiter=' ')"
   ]
  },
  {
   "cell_type": "code",
   "execution_count": 15,
   "metadata": {
    "collapsed": false
   },
   "outputs": [
    {
     "name": "stdout",
     "output_type": "stream",
     "text": [
      "eBOSS returned 9851 quasars\n",
      "BOSS returned 340202 quasars\n"
     ]
    }
   ],
   "source": [
    "print 'eBOSS returned %d quasars' %len(eboss)\n",
    "print 'BOSS returned %d quasars' %len(boss)"
   ]
  },
  {
   "cell_type": "markdown",
   "metadata": {},
   "source": [
    "### Match quasars"
   ]
  },
  {
   "cell_type": "code",
   "execution_count": 16,
   "metadata": {
    "collapsed": false
   },
   "outputs": [],
   "source": [
    "overlap = join(eboss, boss, keys=('RUN','RERUN','CAMCOL','FIELD', 'ID'), join_type='inner', table_names=('E','B'))\n",
    "overlap = overlap.group_by(('PLATE_E','MJD_E','FIBER_E'))\n",
    "repeats = Table([overlap['PLATE_E'],overlap['MJD_E'],overlap['FIBER_E'],overlap['THING_ID_E'],overlap['PLATE_B'],overlap['MJD_B'],overlap['FIBER_B'],overlap['THING_ID_B']])"
   ]
  },
  {
   "cell_type": "code",
   "execution_count": 17,
   "metadata": {
    "collapsed": false
   },
   "outputs": [
    {
     "data": {
      "text/html": [
       "&lt;Table masked=False length=11765&gt;\n",
       "<table id=\"table4394028688\">\n",
       "<thead><tr><th>PLATE_E</th><th>MJD_E</th><th>FIBER_E</th><th>THING_ID_E</th><th>PLATE_B</th><th>MJD_B</th><th>FIBER_B</th><th>THING_ID_B</th></tr></thead>\n",
       "<thead><tr><th>int64</th><th>int64</th><th>int64</th><th>int64</th><th>int64</th><th>int64</th><th>int64</th><th>int64</th></tr></thead>\n",
       "<tr><td>7572</td><td>56944</td><td>5</td><td>267246461</td><td>5028</td><td>55836</td><td>149</td><td>267490850</td></tr>\n",
       "<tr><td>7572</td><td>56944</td><td>5</td><td>267246461</td><td>5029</td><td>55750</td><td>498</td><td>267490850</td></tr>\n",
       "<tr><td>7572</td><td>56944</td><td>226</td><td>272920497</td><td>5028</td><td>55836</td><td>653</td><td>273165985</td></tr>\n",
       "<tr><td>7572</td><td>56944</td><td>348</td><td>270126146</td><td>5020</td><td>55852</td><td>78</td><td>270370986</td></tr>\n",
       "<tr><td>7572</td><td>56944</td><td>504</td><td>277500052</td><td>5022</td><td>55827</td><td>206</td><td>277746813</td></tr>\n",
       "<tr><td>7572</td><td>56944</td><td>504</td><td>277500052</td><td>5020</td><td>55852</td><td>790</td><td>277746813</td></tr>\n",
       "<tr><td>7572</td><td>56944</td><td>520</td><td>276061714</td><td>5020</td><td>55852</td><td>838</td><td>276307924</td></tr>\n",
       "<tr><td>7572</td><td>56944</td><td>526</td><td>275822186</td><td>5020</td><td>55852</td><td>800</td><td>276068348</td></tr>\n",
       "<tr><td>7572</td><td>56944</td><td>648</td><td>277136879</td><td>5020</td><td>55852</td><td>916</td><td>277383514</td></tr>\n",
       "<tr><td>7572</td><td>56944</td><td>684</td><td>279403960</td><td>5022</td><td>55827</td><td>56</td><td>279651252</td></tr>\n",
       "<tr><td>...</td><td>...</td><td>...</td><td>...</td><td>...</td><td>...</td><td>...</td><td>...</td></tr>\n",
       "<tr><td>10000</td><td>57346</td><td>732</td><td>350283464</td><td>6270</td><td>56273</td><td>392</td><td>350546969</td></tr>\n",
       "<tr><td>10000</td><td>57346</td><td>818</td><td>348052255</td><td>6270</td><td>56273</td><td>342</td><td>348315343</td></tr>\n",
       "<tr><td>10000</td><td>57346</td><td>821</td><td>359651222</td><td>6271</td><td>56304</td><td>132</td><td>359916818</td></tr>\n",
       "<tr><td>10000</td><td>57346</td><td>888</td><td>350868168</td><td>6270</td><td>56273</td><td>238</td><td>351131773</td></tr>\n",
       "<tr><td>10000</td><td>57346</td><td>890</td><td>350610703</td><td>6270</td><td>56273</td><td>240</td><td>350874281</td></tr>\n",
       "<tr><td>10000</td><td>57346</td><td>910</td><td>355334956</td><td>6270</td><td>56273</td><td>874</td><td>355599623</td></tr>\n",
       "<tr><td>10000</td><td>57346</td><td>914</td><td>355636146</td><td>6270</td><td>56273</td><td>838</td><td>355900794</td></tr>\n",
       "<tr><td>10000</td><td>57346</td><td>952</td><td>355058548</td><td>6272</td><td>56325</td><td>508</td><td>355323143</td></tr>\n",
       "<tr><td>10000</td><td>57346</td><td>999</td><td>349534382</td><td>6270</td><td>56273</td><td>74</td><td>349797721</td></tr>\n",
       "<tr><td>10000</td><td>57346</td><td>999</td><td>349534382</td><td>6272</td><td>56325</td><td>492</td><td>349797721</td></tr>\n",
       "</table>"
      ],
      "text/plain": [
       "<Table masked=False length=11765>\n",
       "PLATE_E MJD_E FIBER_E THING_ID_E PLATE_B MJD_B FIBER_B THING_ID_B\n",
       " int64  int64  int64    int64     int64  int64  int64    int64   \n",
       "------- ----- ------- ---------- ------- ----- ------- ----------\n",
       "   7572 56944       5  267246461    5028 55836     149  267490850\n",
       "   7572 56944       5  267246461    5029 55750     498  267490850\n",
       "   7572 56944     226  272920497    5028 55836     653  273165985\n",
       "   7572 56944     348  270126146    5020 55852      78  270370986\n",
       "   7572 56944     504  277500052    5022 55827     206  277746813\n",
       "   7572 56944     504  277500052    5020 55852     790  277746813\n",
       "   7572 56944     520  276061714    5020 55852     838  276307924\n",
       "   7572 56944     526  275822186    5020 55852     800  276068348\n",
       "   7572 56944     648  277136879    5020 55852     916  277383514\n",
       "   7572 56944     684  279403960    5022 55827      56  279651252\n",
       "    ...   ...     ...        ...     ...   ...     ...        ...\n",
       "  10000 57346     732  350283464    6270 56273     392  350546969\n",
       "  10000 57346     818  348052255    6270 56273     342  348315343\n",
       "  10000 57346     821  359651222    6271 56304     132  359916818\n",
       "  10000 57346     888  350868168    6270 56273     238  351131773\n",
       "  10000 57346     890  350610703    6270 56273     240  350874281\n",
       "  10000 57346     910  355334956    6270 56273     874  355599623\n",
       "  10000 57346     914  355636146    6270 56273     838  355900794\n",
       "  10000 57346     952  355058548    6272 56325     508  355323143\n",
       "  10000 57346     999  349534382    6270 56273      74  349797721\n",
       "  10000 57346     999  349534382    6272 56325     492  349797721"
      ]
     },
     "execution_count": 17,
     "metadata": {},
     "output_type": "execute_result"
    }
   ],
   "source": [
    "repeats"
   ]
  },
  {
   "cell_type": "code",
   "execution_count": null,
   "metadata": {
    "collapsed": true
   },
   "outputs": [],
   "source": [
    "#repeats.write('eboss_boss_repeat_qsos.dat', format='ascii')"
   ]
  },
  {
   "cell_type": "code",
   "execution_count": 7,
   "metadata": {
    "collapsed": true
   },
   "outputs": [],
   "source": [
    "eboss_overlap = Table([repeats['PLATE_E'],repeats['MJD_E'],repeats['FIBER_E'],repeats['THING_ID_E']])\n",
    "unique_eboss = unique(eboss_overlap)"
   ]
  },
  {
   "cell_type": "code",
   "execution_count": null,
   "metadata": {
    "collapsed": false
   },
   "outputs": [],
   "source": [
    "plt.figure()\n",
    "plt.hist(eboss['MJD'], bins=np.linspace(56800, 57250, 60))\n",
    "plt.hist(unique_eboss['MJD_E'], bins=np.linspace(56800, 57250, 60));"
   ]
  },
  {
   "cell_type": "code",
   "execution_count": 13,
   "metadata": {
    "collapsed": false
   },
   "outputs": [
    {
     "data": {
      "text/plain": [
       "0.984468581869861"
      ]
     },
     "execution_count": 13,
     "metadata": {},
     "output_type": "execute_result"
    }
   ],
   "source": [
    "#Around 98% of eBOSS quasars are reobserved BOSS quasars (when overlap is performed over 340,202 BOSS quasars)\n",
    "float(len(unique_eboss))/len(eboss)"
   ]
  },
  {
   "cell_type": "code",
   "execution_count": null,
   "metadata": {
    "collapsed": true
   },
   "outputs": [],
   "source": []
  },
  {
   "cell_type": "code",
   "execution_count": null,
   "metadata": {
    "collapsed": true
   },
   "outputs": [],
   "source": []
  }
 ],
 "metadata": {
  "kernelspec": {
   "display_name": "Python 2",
   "language": "python",
   "name": "python2"
  },
  "language_info": {
   "codemirror_mode": {
    "name": "ipython",
    "version": 2
   },
   "file_extension": ".py",
   "mimetype": "text/x-python",
   "name": "python",
   "nbconvert_exporter": "python",
   "pygments_lexer": "ipython2",
   "version": "2.7.11"
  }
 },
 "nbformat": 4,
 "nbformat_minor": 0
}
